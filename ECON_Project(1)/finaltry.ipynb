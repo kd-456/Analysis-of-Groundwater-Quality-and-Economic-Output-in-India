{
 "cells": [
  {
   "cell_type": "code",
   "execution_count": 2,
   "metadata": {},
   "outputs": [
    {
     "name": "stdout",
     "output_type": "stream",
     "text": [
      "                            OLS Regression Results                            \n",
      "==============================================================================\n",
      "Dep. Variable:              potassium   R-squared:                       0.001\n",
      "Model:                            OLS   Adj. R-squared:                  0.001\n",
      "Method:                 Least Squares   F-statistic:                     6.470\n",
      "Date:                Sun, 28 Apr 2024   Prob (F-statistic):             0.0110\n",
      "Time:                        18:43:14   Log-Likelihood:                -21888.\n",
      "No. Observations:                4691   AIC:                         4.378e+04\n",
      "Df Residuals:                    4689   BIC:                         4.379e+04\n",
      "Df Model:                           1                                         \n",
      "Covariance Type:            nonrobust                                         \n",
      "==============================================================================\n",
      "                 coef    std err          t      P>|t|      [0.025      0.975]\n",
      "------------------------------------------------------------------------------\n",
      "const         17.0480      0.589     28.962      0.000      15.894      18.202\n",
      "GDP        -3.344e-06   1.31e-06     -2.544      0.011   -5.92e-06   -7.67e-07\n",
      "==============================================================================\n",
      "Omnibus:                     4933.350   Durbin-Watson:                   0.892\n",
      "Prob(Omnibus):                  0.000   Jarque-Bera (JB):           413470.655\n",
      "Skew:                           5.189   Prob(JB):                         0.00\n",
      "Kurtosis:                      47.807   Cond. No.                     7.02e+05\n",
      "==============================================================================\n",
      "\n",
      "Notes:\n",
      "[1] Standard Errors assume that the covariance matrix of the errors is correctly specified.\n",
      "[2] The condition number is large, 7.02e+05. This might indicate that there are\n",
      "strong multicollinearity or other numerical problems.\n"
     ]
    }
   ],
   "source": [
    "import statsmodels.api as sm\n",
    "import pandas as pd\n",
    "\n",
    "# Load the dataset\n",
    "file_path = 'dataset.xlsx'\n",
    "data = pd.read_excel(file_path)\n",
    "\n",
    "# Display the first few rows of the dataframe to understand its structure\n",
    "data.head()\n",
    "\n",
    "\n",
    "# Dropping rows with missing values in the 'potassium' or 'GDP' columns\n",
    "cleaned_data = data.dropna(subset=['potassium', 'GDP'])\n",
    "\n",
    "# Define the dependent variable (y) and independent variable (X)\n",
    "y = cleaned_data['potassium']\n",
    "X = cleaned_data['GDP']\n",
    "X = sm.add_constant(X)  # Adds a constant term to the predictor\n",
    "\n",
    "# Fit the OLS model\n",
    "model = sm.OLS(y, X).fit()\n",
    "\n",
    "# Print the summary of the regression\n",
    "print(model.summary())\n"
   ]
  },
  {
   "cell_type": "code",
   "execution_count": null,
   "metadata": {},
   "outputs": [],
   "source": []
  }
 ],
 "metadata": {
  "kernelspec": {
   "display_name": "Python 3",
   "language": "python",
   "name": "python3"
  },
  "language_info": {
   "codemirror_mode": {
    "name": "ipython",
    "version": 3
   },
   "file_extension": ".py",
   "mimetype": "text/x-python",
   "name": "python",
   "nbconvert_exporter": "python",
   "pygments_lexer": "ipython3",
   "version": "3.10.11"
  }
 },
 "nbformat": 4,
 "nbformat_minor": 2
}
