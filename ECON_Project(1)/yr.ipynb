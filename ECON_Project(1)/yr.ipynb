{
 "cells": [
  {
   "cell_type": "code",
   "execution_count": 34,
   "metadata": {},
   "outputs": [
    {
     "name": "stdout",
     "output_type": "stream",
     "text": [
      "<class 'pandas.core.frame.DataFrame'>\n",
      "RangeIndex: 7818 entries, 0 to 7817\n",
      "Data columns (total 9 columns):\n",
      " #   Column     Non-Null Count  Dtype  \n",
      "---  ------     --------------  -----  \n",
      " 0   No.        7818 non-null   object \n",
      " 1   district   7818 non-null   object \n",
      " 2   Gini       7693 non-null   float64\n",
      " 3   country    7818 non-null   object \n",
      " 4   state      7818 non-null   object \n",
      " 5   year       7818 non-null   int64  \n",
      " 6   dyid       7818 non-null   object \n",
      " 7   potassium  4708 non-null   float64\n",
      " 8   GDP        7798 non-null   float64\n",
      "dtypes: float64(3), int64(1), object(5)\n",
      "memory usage: 549.8+ KB\n"
     ]
    },
    {
     "data": {
      "text/plain": [
       "(None,\n",
       "   No.       district  Gini country                        state  year  \\\n",
       " 0   1  SOUTH ANDAMAN  0.33   INDIA  ANDAMAN AND NICOBAR ISLANDS  2000   \n",
       " 1   1  SOUTH ANDAMAN  0.33   INDIA  ANDAMAN AND NICOBAR ISLANDS  2001   \n",
       " 2   1  SOUTH ANDAMAN  0.33   INDIA  ANDAMAN AND NICOBAR ISLANDS  2002   \n",
       " 3   1  SOUTH ANDAMAN  0.33   INDIA  ANDAMAN AND NICOBAR ISLANDS  2003   \n",
       " 4   1  SOUTH ANDAMAN  0.33   INDIA  ANDAMAN AND NICOBAR ISLANDS  2004   \n",
       " \n",
       "                 dyid  potassium          GDP  \n",
       " 0  SOUTH ANDAMAN2000        NaN  1247.388396  \n",
       " 1  SOUTH ANDAMAN2001        NaN  1275.670472  \n",
       " 2  SOUTH ANDAMAN2002        NaN  1411.126730  \n",
       " 3  SOUTH ANDAMAN2003        NaN  1559.979760  \n",
       " 4  SOUTH ANDAMAN2004   1.742308  1619.520972  ,\n",
       "               Gini         year    potassium           GDP\n",
       " count  7693.000000  7818.000000  4708.000000  7.798000e+03\n",
       " mean      0.266969  2008.966232    15.872150  3.296040e+05\n",
       " std       0.055361     5.474388    25.695746  2.769489e+05\n",
       " min       0.160000  2000.000000     0.000000  1.247388e+03\n",
       " 25%       0.230000  2004.000000     3.360000  1.399343e+05\n",
       " 50%       0.260000  2009.000000     7.363068  2.469147e+05\n",
       " 75%       0.300000  2014.000000    17.244445  4.419564e+05\n",
       " max       0.480000  2018.000000   405.000000  1.728578e+06)"
      ]
     },
     "execution_count": 34,
     "metadata": {},
     "output_type": "execute_result"
    }
   ],
   "source": [
    "import pandas as pd\n",
    "from sklearn.impute import SimpleImputer\n",
    "from sklearn.preprocessing import StandardScaler, PolynomialFeatures\n",
    "import numpy as np\n",
    "\n",
    "# Load the dataset\n",
    "file_path = 'dataset.xlsx'\n",
    "data = pd.read_excel(file_path)\n",
    "\n",
    "# Display the first few rows of the dataset and its summary statistics\n",
    "data_info = data.info()\n",
    "data_head = data.head()\n",
    "data_description = data.describe()\n",
    "\n",
    "data_info, data_head, data_description\n"
   ]
  },
  {
   "cell_type": "code",
   "execution_count": 35,
   "metadata": {},
   "outputs": [],
   "source": [
    "import statsmodels.api as sm\n",
    "\n",
    "# Define the independent variables and add a constant to the model (intercept)\n",
    "\n",
    "\n",
    "def runner(data):\n",
    "    data_clean = data.dropna(subset=['potassium','GDP','Gini'])\n",
    "    #imputer = SimpleImputer(strategy='median')\n",
    "    #data_clean[['GDP', 'Gini']] = imputer.fit_transform(data_clean[['GDP', 'Gini']])\n",
    "\n",
    "    # Create polynomial features for GDP\n",
    "    poly = PolynomialFeatures(degree=3, include_bias=False)\n",
    "    gdp_poly = poly.fit_transform(data_clean[['GDP']])\n",
    "    gdp_poly_df = pd.DataFrame(gdp_poly, columns=['GDP', 'GDP2', 'GDP3'], index=data_clean.index)\n",
    "\n",
    "    # Merge polynomial GDP features back into the original dataframe\n",
    "    data_clean = pd.concat([data_clean, gdp_poly_df[['GDP2', 'GDP3']]], axis=1)\n",
    "\n",
    "    # Normalize 'GDP', 'Gini', 'potassium', 'GDP2', 'GDP3'\n",
    "    scaler = StandardScaler()\n",
    "    data_clean[['GDP', 'Gini', 'potassium', 'GDP2', 'GDP3']] = scaler.fit_transform(data_clean[['GDP', 'Gini', 'potassium', 'GDP2', 'GDP3']])\n",
    "\n",
    "    # Check for outliers by looking at statistical descriptions\n",
    "    data_clean_description = data_clean[['GDP', 'Gini', 'potassium', 'GDP2', 'GDP3']].describe()\n",
    "\n",
    "    data_clean_description\n",
    "\n",
    "    X = data_clean[['GDP', 'GDP2', 'GDP3', 'Gini']]\n",
    "    X = sm.add_constant(X)\n",
    "\n",
    "    # Define the dependent variable\n",
    "    y = data_clean['potassium']\n",
    "\n",
    "    # Fit the regression model\n",
    "    model = sm.OLS(y, X).fit()\n",
    "\n",
    "    # Get the summary of the regression model\n",
    "    model_summary = model.summary()\n",
    "    print(model_summary)\n"
   ]
  },
  {
   "cell_type": "code",
   "execution_count": 36,
   "metadata": {},
   "outputs": [
    {
     "name": "stdout",
     "output_type": "stream",
     "text": [
      "                            OLS Regression Results                            \n",
      "==============================================================================\n",
      "Dep. Variable:              potassium   R-squared:                       0.012\n",
      "Model:                            OLS   Adj. R-squared:                  0.012\n",
      "Method:                 Least Squares   F-statistic:                     14.52\n",
      "Date:                Sun, 28 Apr 2024   Prob (F-statistic):           8.73e-12\n",
      "Time:                        20:43:42   Log-Likelihood:                -6501.1\n",
      "No. Observations:                4602   AIC:                         1.301e+04\n",
      "Df Residuals:                    4597   BIC:                         1.304e+04\n",
      "Df Model:                           4                                         \n",
      "Covariance Type:            nonrobust                                         \n",
      "==============================================================================\n",
      "                 coef    std err          t      P>|t|      [0.025      0.975]\n",
      "------------------------------------------------------------------------------\n",
      "const        5.99e-18      0.015   4.09e-16      1.000      -0.029       0.029\n",
      "GDP            0.4866      0.089      5.463      0.000       0.312       0.661\n",
      "GDP2          -1.0558      0.202     -5.235      0.000      -1.451      -0.660\n",
      "GDP3           0.5702      0.128      4.461      0.000       0.320       0.821\n",
      "Gini           0.0554      0.015      3.778      0.000       0.027       0.084\n",
      "==============================================================================\n",
      "Omnibus:                     4864.775   Durbin-Watson:                   0.899\n",
      "Prob(Omnibus):                  0.000   Jarque-Bera (JB):           419839.180\n",
      "Skew:                           5.222   Prob(JB):                         0.00\n",
      "Kurtosis:                      48.612   Cond. No.                         28.9\n",
      "==============================================================================\n",
      "\n",
      "Notes:\n",
      "[1] Standard Errors assume that the covariance matrix of the errors is correctly specified.\n"
     ]
    }
   ],
   "source": [
    "runner(data)\n"
   ]
  },
  {
   "cell_type": "code",
   "execution_count": 37,
   "metadata": {},
   "outputs": [
    {
     "data": {
      "text/plain": [
       "{'NORTHERN REGION': 'ECO/NORTHERN_REGION.xlsx',\n",
       " 'NORTH-EASTERN REGION': 'ECO/NORTH-EASTERN_REGION.xlsx',\n",
       " 'EASTERN REGION': 'ECO/EASTERN_REGION.xlsx',\n",
       " 'CENTRAL REGION': 'ECO/CENTRAL_REGION.xlsx',\n",
       " 'WESTERN REGION': 'ECO/WESTERN_REGION.xlsx',\n",
       " 'SOUTHERN REGION': 'ECO/SOUTHERN_REGION.xlsx'}"
      ]
     },
     "execution_count": 37,
     "metadata": {},
     "output_type": "execute_result"
    }
   ],
   "source": [
    "import pandas as pd\n",
    "import os\n",
    "\n",
    "# Load the dataset\n",
    "data_path = 'dataset.xlsx'\n",
    "data = pd.read_excel(data_path)\n",
    "\n",
    "# Pre-extracted regions and states based on the image provided earlier\n",
    "regions = {'NORTHERN REGION': ['CHANDIGARH', 'DELHI', 'HARYANA', 'HIMACHAL PRADESH', 'JAMMU AND KASHMIR', 'PUNJAB', 'RAJASTHAN'],\n",
    "           'NORTH-EASTERN REGION': ['ARUNACHAL PRADESH', 'ASSAM', 'MANIPUR', 'MEGHALAYA', 'MIZORAM', 'NAGALAND', 'TRIPURA'],\n",
    "           'EASTERN REGION': ['ANDAMAN & NICOBAR ISLANDS', 'BIHAR', 'JHARKHAND', 'ODISHA', 'SIKKIM', 'WEST BENGAL'],\n",
    "           'CENTRAL REGION': ['CHHATTISGARH', 'MADHYA PRADESH', 'UTTAR PRADESH', 'UTTARANCHAL'],\n",
    "           'WESTERN REGION': ['THE DADRA AND NAGAR HAVELI AND DAMAN AND DIU', 'GOA', 'GUJARAT', 'MAHARASHTRA'],\n",
    "           'SOUTHERN REGION': ['ANDHRA PRADESH', 'KARNATAKA', 'KERALA', 'LAKSHADWEEP', 'PONDICHERRY', 'TAMILNADU']}\n",
    "\n",
    "# Create a directory for the output files\n",
    "output_dir = 'ECO/'\n",
    "os.makedirs(output_dir, exist_ok=True)\n",
    "\n",
    "# Function to save the dataframe to an Excel file\n",
    "def save_to_excel(df, region_name):\n",
    "    # Replace spaces and slashes for file compatibility\n",
    "    file_name = region_name.replace(' ', '_').replace('&', 'and') + '.xlsx'\n",
    "    file_path = output_dir + file_name\n",
    "    df.to_excel(file_path, index=False)\n",
    "    return file_path\n",
    "\n",
    "# Dictionary to store file paths for the newly created excel files\n",
    "excel_file_paths = {}\n",
    "\n",
    "# Iterate over the regions dictionary to filter and save the dataframes\n",
    "for region, states in regions.items():\n",
    "    # Filter the data for the current region\n",
    "    df_region = data[data['state'].str.upper().isin(states)]\n",
    "    # Save to an Excel file\n",
    "    excel_file_paths[region] = save_to_excel(df_region, region)\n",
    "\n",
    "excel_file_paths\n"
   ]
  },
  {
   "cell_type": "code",
   "execution_count": 38,
   "metadata": {},
   "outputs": [
    {
     "name": "stdout",
     "output_type": "stream",
     "text": [
      "                            OLS Regression Results                            \n",
      "==============================================================================\n",
      "Dep. Variable:              potassium   R-squared:                       0.002\n",
      "Model:                            OLS   Adj. R-squared:                 -0.001\n",
      "Method:                 Least Squares   F-statistic:                    0.5693\n",
      "Date:                Sun, 28 Apr 2024   Prob (F-statistic):              0.685\n",
      "Time:                        20:43:48   Log-Likelihood:                -1738.5\n",
      "No. Observations:                1226   AIC:                             3487.\n",
      "Df Residuals:                    1221   BIC:                             3513.\n",
      "Df Model:                           4                                         \n",
      "Covariance Type:            nonrobust                                         \n",
      "==============================================================================\n",
      "                 coef    std err          t      P>|t|      [0.025      0.975]\n",
      "------------------------------------------------------------------------------\n",
      "const       6.933e-17      0.029   2.43e-15      1.000      -0.056       0.056\n",
      "GDP           -0.0309      0.431     -0.072      0.943      -0.877       0.816\n",
      "GDP2          -0.0908      1.136     -0.080      0.936      -2.319       2.138\n",
      "GDP3           0.1258      0.735      0.171      0.864      -1.316       1.568\n",
      "Gini          -0.0355      0.029     -1.234      0.217      -0.092       0.021\n",
      "==============================================================================\n",
      "Omnibus:                     1919.012   Durbin-Watson:                   1.788\n",
      "Prob(Omnibus):                  0.000   Jarque-Bera (JB):           786780.497\n",
      "Skew:                           9.575   Prob(JB):                         0.00\n",
      "Kurtosis:                     125.618   Cond. No.                         84.9\n",
      "==============================================================================\n",
      "\n",
      "Notes:\n",
      "[1] Standard Errors assume that the covariance matrix of the errors is correctly specified.\n"
     ]
    }
   ],
   "source": [
    "\n",
    "data = pd.read_excel('ECO/CENTRAL_REGION.xlsx')\n",
    "\n",
    "runner(data)\n",
    "\n"
   ]
  },
  {
   "cell_type": "code",
   "execution_count": 39,
   "metadata": {},
   "outputs": [
    {
     "name": "stdout",
     "output_type": "stream",
     "text": [
      "                            OLS Regression Results                            \n",
      "==============================================================================\n",
      "Dep. Variable:              potassium   R-squared:                       0.050\n",
      "Model:                            OLS   Adj. R-squared:                  0.047\n",
      "Method:                 Least Squares   F-statistic:                     16.88\n",
      "Date:                Sun, 28 Apr 2024   Prob (F-statistic):           1.68e-13\n",
      "Time:                        20:43:49   Log-Likelihood:                -1808.7\n",
      "No. Observations:                1298   AIC:                             3627.\n",
      "Df Residuals:                    1293   BIC:                             3653.\n",
      "Df Model:                           4                                         \n",
      "Covariance Type:            nonrobust                                         \n",
      "==============================================================================\n",
      "                 coef    std err          t      P>|t|      [0.025      0.975]\n",
      "------------------------------------------------------------------------------\n",
      "const      -6.126e-17      0.027  -2.26e-15      1.000      -0.053       0.053\n",
      "GDP            1.6597      0.273      6.082      0.000       1.124       2.195\n",
      "GDP2          -3.2486      0.643     -5.053      0.000      -4.510      -1.987\n",
      "GDP3           1.5960      0.397      4.017      0.000       0.817       2.375\n",
      "Gini           0.0402      0.027      1.464      0.143      -0.014       0.094\n",
      "==============================================================================\n",
      "Omnibus:                     1130.189   Durbin-Watson:                   1.014\n",
      "Prob(Omnibus):                  0.000   Jarque-Bera (JB):            35671.446\n",
      "Skew:                           3.974   Prob(JB):                         0.00\n",
      "Kurtosis:                      27.421   Cond. No.                         50.4\n",
      "==============================================================================\n",
      "\n",
      "Notes:\n",
      "[1] Standard Errors assume that the covariance matrix of the errors is correctly specified.\n"
     ]
    }
   ],
   "source": [
    "\n",
    "data = pd.read_excel('ECO/NORTHERN_REGION.xlsx')\n",
    "\n",
    "runner(data)"
   ]
  },
  {
   "cell_type": "code",
   "execution_count": 40,
   "metadata": {},
   "outputs": [
    {
     "name": "stdout",
     "output_type": "stream",
     "text": [
      "                            OLS Regression Results                            \n",
      "==============================================================================\n",
      "Dep. Variable:              potassium   R-squared:                       0.065\n",
      "Model:                            OLS   Adj. R-squared:                  0.059\n",
      "Method:                 Least Squares   F-statistic:                     12.12\n",
      "Date:                Sun, 28 Apr 2024   Prob (F-statistic):           1.56e-09\n",
      "Time:                        20:43:49   Log-Likelihood:                -976.74\n",
      "No. Observations:                 705   AIC:                             1963.\n",
      "Df Residuals:                     700   BIC:                             1986.\n",
      "Df Model:                           4                                         \n",
      "Covariance Type:            nonrobust                                         \n",
      "==============================================================================\n",
      "                 coef    std err          t      P>|t|      [0.025      0.975]\n",
      "------------------------------------------------------------------------------\n",
      "const       4.778e-17      0.037   1.31e-15      1.000      -0.072       0.072\n",
      "GDP            0.7352      0.376      1.957      0.051      -0.002       1.473\n",
      "GDP2          -1.1692      0.793     -1.475      0.141      -2.726       0.387\n",
      "GDP3           0.5483      0.462      1.188      0.235      -0.358       1.454\n",
      "Gini          -0.2234      0.038     -5.941      0.000      -0.297      -0.150\n",
      "==============================================================================\n",
      "Omnibus:                      618.812   Durbin-Watson:                   1.359\n",
      "Prob(Omnibus):                  0.000   Jarque-Bera (JB):            22323.871\n",
      "Skew:                           3.783   Prob(JB):                         0.00\n",
      "Kurtosis:                      29.509   Cond. No.                         45.9\n",
      "==============================================================================\n",
      "\n",
      "Notes:\n",
      "[1] Standard Errors assume that the covariance matrix of the errors is correctly specified.\n"
     ]
    }
   ],
   "source": [
    "\n",
    "data = pd.read_excel('ECO/EASTERN_REGION.xlsx')\n",
    "\n",
    "runner(data)"
   ]
  },
  {
   "cell_type": "code",
   "execution_count": 41,
   "metadata": {},
   "outputs": [
    {
     "name": "stdout",
     "output_type": "stream",
     "text": [
      "                            OLS Regression Results                            \n",
      "==============================================================================\n",
      "Dep. Variable:              potassium   R-squared:                       0.195\n",
      "Model:                            OLS   Adj. R-squared:                  0.182\n",
      "Method:                 Least Squares   F-statistic:                     14.09\n",
      "Date:                Sun, 28 Apr 2024   Prob (F-statistic):           2.63e-10\n",
      "Time:                        20:43:50   Log-Likelihood:                -310.52\n",
      "No. Observations:                 237   AIC:                             631.0\n",
      "Df Residuals:                     232   BIC:                             648.4\n",
      "Df Model:                           4                                         \n",
      "Covariance Type:            nonrobust                                         \n",
      "==============================================================================\n",
      "                 coef    std err          t      P>|t|      [0.025      0.975]\n",
      "------------------------------------------------------------------------------\n",
      "const       1.274e-16      0.059   2.16e-15      1.000      -0.116       0.116\n",
      "GDP           -4.7341      0.874     -5.416      0.000      -6.456      -3.012\n",
      "GDP2          11.9113      2.116      5.630      0.000       7.743      16.080\n",
      "GDP3          -7.2176      1.320     -5.467      0.000      -9.819      -4.616\n",
      "Gini           0.0114      0.065      0.176      0.861      -0.117       0.139\n",
      "==============================================================================\n",
      "Omnibus:                      158.169   Durbin-Watson:                   1.746\n",
      "Prob(Omnibus):                  0.000   Jarque-Bera (JB):             1721.131\n",
      "Skew:                           2.489   Prob(JB):                         0.00\n",
      "Kurtosis:                      15.227   Cond. No.                         77.9\n",
      "==============================================================================\n",
      "\n",
      "Notes:\n",
      "[1] Standard Errors assume that the covariance matrix of the errors is correctly specified.\n"
     ]
    }
   ],
   "source": [
    "\n",
    "data = pd.read_excel('ECO/NORTH-EASTERN_REGION.xlsx')\n",
    "\n",
    "runner(data)"
   ]
  },
  {
   "cell_type": "code",
   "execution_count": 42,
   "metadata": {},
   "outputs": [
    {
     "name": "stdout",
     "output_type": "stream",
     "text": [
      "                            OLS Regression Results                            \n",
      "==============================================================================\n",
      "Dep. Variable:              potassium   R-squared:                       0.039\n",
      "Model:                            OLS   Adj. R-squared:                  0.031\n",
      "Method:                 Least Squares   F-statistic:                     4.920\n",
      "Date:                Sun, 28 Apr 2024   Prob (F-statistic):           0.000678\n",
      "Time:                        20:43:50   Log-Likelihood:                -681.28\n",
      "No. Observations:                 487   AIC:                             1373.\n",
      "Df Residuals:                     482   BIC:                             1394.\n",
      "Df Model:                           4                                         \n",
      "Covariance Type:            nonrobust                                         \n",
      "==============================================================================\n",
      "                 coef    std err          t      P>|t|      [0.025      0.975]\n",
      "------------------------------------------------------------------------------\n",
      "const      -7.392e-17      0.045  -1.66e-15      1.000      -0.088       0.088\n",
      "GDP            1.1146      0.338      3.295      0.001       0.450       1.779\n",
      "GDP2          -2.7473      0.854     -3.218      0.001      -4.425      -1.070\n",
      "GDP3           1.5758      0.561      2.807      0.005       0.473       2.679\n",
      "Gini          -0.0300      0.046     -0.658      0.511      -0.120       0.060\n",
      "==============================================================================\n",
      "Omnibus:                      207.133   Durbin-Watson:                   0.883\n",
      "Prob(Omnibus):                  0.000   Jarque-Bera (JB):              885.242\n",
      "Skew:                           1.902   Prob(JB):                    5.92e-193\n",
      "Kurtosis:                       8.399   Cond. No.                         40.8\n",
      "==============================================================================\n",
      "\n",
      "Notes:\n",
      "[1] Standard Errors assume that the covariance matrix of the errors is correctly specified.\n"
     ]
    }
   ],
   "source": [
    "\n",
    "data = pd.read_excel('ECO/SOUTHERN_REGION.xlsx')\n",
    "\n",
    "runner(data)"
   ]
  },
  {
   "cell_type": "code",
   "execution_count": 43,
   "metadata": {},
   "outputs": [
    {
     "data": {
      "text/plain": [
       "((225, 9), (225, 9), (223, 9), (180, 9))"
      ]
     },
     "execution_count": 43,
     "metadata": {},
     "output_type": "execute_result"
    }
   ],
   "source": [
    "# Create subsets of the data based on different time periods\n",
    "data_2000_2004 = data[(data['year'] >= 2000) & (data['year'] <= 2004)]\n",
    "data_2005_2009 = data[(data['year'] >= 2005) & (data['year'] <= 2009)]\n",
    "data_2010_2014 = data[(data['year'] >= 2010) & (data['year'] <= 2014)]\n",
    "data_2015_2018 = data[(data['year'] >= 2015) & (data['year'] <= 2018)]\n",
    "\n",
    "# Check the size of each subset to confirm correct division\n",
    "(data_2000_2004.shape, data_2005_2009.shape, data_2010_2014.shape, data_2015_2018.shape)\n"
   ]
  },
  {
   "cell_type": "code",
   "execution_count": 44,
   "metadata": {},
   "outputs": [
    {
     "name": "stdout",
     "output_type": "stream",
     "text": [
      "                            OLS Regression Results                            \n",
      "==============================================================================\n",
      "Dep. Variable:              potassium   R-squared:                       0.063\n",
      "Model:                            OLS   Adj. R-squared:                  0.018\n",
      "Method:                 Least Squares   F-statistic:                     1.419\n",
      "Date:                Sun, 28 Apr 2024   Prob (F-statistic):              0.235\n",
      "Time:                        21:15:04   Log-Likelihood:                -124.80\n",
      "No. Observations:                  90   AIC:                             259.6\n",
      "Df Residuals:                      85   BIC:                             272.1\n",
      "Df Model:                           4                                         \n",
      "Covariance Type:            nonrobust                                         \n",
      "==============================================================================\n",
      "                 coef    std err          t      P>|t|      [0.025      0.975]\n",
      "------------------------------------------------------------------------------\n",
      "const       9.714e-17      0.105   9.25e-16      1.000      -0.209       0.209\n",
      "GDP           -2.1333      1.011     -2.111      0.038      -4.143      -0.124\n",
      "GDP2           5.4453      2.774      1.963      0.053      -0.071      10.962\n",
      "GDP3          -3.3740      1.872     -1.802      0.075      -7.096       0.348\n",
      "Gini           0.0739      0.108      0.682      0.497      -0.141       0.289\n",
      "==============================================================================\n",
      "Omnibus:                       47.449   Durbin-Watson:                   1.460\n",
      "Prob(Omnibus):                  0.000   Jarque-Bera (JB):              147.213\n",
      "Skew:                           1.800   Prob(JB):                     1.08e-32\n",
      "Kurtosis:                       8.128   Cond. No.                         57.0\n",
      "==============================================================================\n",
      "\n",
      "Notes:\n",
      "[1] Standard Errors assume that the covariance matrix of the errors is correctly specified.\n"
     ]
    }
   ],
   "source": [
    "runner(data_2000_2004)"
   ]
  },
  {
   "cell_type": "code",
   "execution_count": 45,
   "metadata": {},
   "outputs": [
    {
     "name": "stdout",
     "output_type": "stream",
     "text": [
      "                            OLS Regression Results                            \n",
      "==============================================================================\n",
      "Dep. Variable:              potassium   R-squared:                       0.076\n",
      "Model:                            OLS   Adj. R-squared:                  0.047\n",
      "Method:                 Least Squares   F-statistic:                     2.652\n",
      "Date:                Sun, 28 Apr 2024   Prob (F-statistic):             0.0361\n",
      "Time:                        21:15:15   Log-Likelihood:                -184.84\n",
      "No. Observations:                 134   AIC:                             379.7\n",
      "Df Residuals:                     129   BIC:                             394.2\n",
      "Df Model:                           4                                         \n",
      "Covariance Type:            nonrobust                                         \n",
      "==============================================================================\n",
      "                 coef    std err          t      P>|t|      [0.025      0.975]\n",
      "------------------------------------------------------------------------------\n",
      "const      -2.992e-17      0.085  -3.54e-16      1.000      -0.167       0.167\n",
      "GDP            1.3154      0.716      1.838      0.068      -0.101       2.731\n",
      "GDP2          -2.5659      2.003     -1.281      0.202      -6.529       1.397\n",
      "GDP3           1.1818      1.374      0.860      0.391      -1.536       3.900\n",
      "Gini           0.0220      0.087      0.253      0.800      -0.150       0.194\n",
      "==============================================================================\n",
      "Omnibus:                       46.041   Durbin-Watson:                   0.899\n",
      "Prob(Omnibus):                  0.000   Jarque-Bera (JB):               98.548\n",
      "Skew:                           1.465   Prob(JB):                     3.99e-22\n",
      "Kurtosis:                       6.011   Cond. No.                         50.9\n",
      "==============================================================================\n",
      "\n",
      "Notes:\n",
      "[1] Standard Errors assume that the covariance matrix of the errors is correctly specified.\n"
     ]
    }
   ],
   "source": [
    "runner(data_2005_2009)"
   ]
  },
  {
   "cell_type": "code",
   "execution_count": 46,
   "metadata": {},
   "outputs": [
    {
     "name": "stdout",
     "output_type": "stream",
     "text": [
      "                            OLS Regression Results                            \n",
      "==============================================================================\n",
      "Dep. Variable:              potassium   R-squared:                       0.106\n",
      "Model:                            OLS   Adj. R-squared:                  0.075\n",
      "Method:                 Least Squares   F-statistic:                     3.424\n",
      "Date:                Sun, 28 Apr 2024   Prob (F-statistic):             0.0110\n",
      "Time:                        21:15:30   Log-Likelihood:                -164.94\n",
      "No. Observations:                 121   AIC:                             339.9\n",
      "Df Residuals:                     116   BIC:                             353.9\n",
      "Df Model:                           4                                         \n",
      "Covariance Type:            nonrobust                                         \n",
      "==============================================================================\n",
      "                 coef    std err          t      P>|t|      [0.025      0.975]\n",
      "------------------------------------------------------------------------------\n",
      "const       1.083e-17      0.088   1.23e-16      1.000      -0.174       0.174\n",
      "GDP            0.8274      0.697      1.187      0.238      -0.553       2.208\n",
      "GDP2          -0.8646      1.912     -0.452      0.652      -4.652       2.923\n",
      "GDP3          -0.1583      1.307     -0.121      0.904      -2.747       2.430\n",
      "Gini           0.0040      0.090      0.044      0.965      -0.175       0.183\n",
      "==============================================================================\n",
      "Omnibus:                       35.858   Durbin-Watson:                   1.215\n",
      "Prob(Omnibus):                  0.000   Jarque-Bera (JB):               62.410\n",
      "Skew:                           1.338   Prob(JB):                     2.80e-14\n",
      "Kurtosis:                       5.284   Cond. No.                         46.9\n",
      "==============================================================================\n",
      "\n",
      "Notes:\n",
      "[1] Standard Errors assume that the covariance matrix of the errors is correctly specified.\n"
     ]
    }
   ],
   "source": [
    "runner(data_2010_2014)"
   ]
  },
  {
   "cell_type": "code",
   "execution_count": 47,
   "metadata": {},
   "outputs": [
    {
     "name": "stdout",
     "output_type": "stream",
     "text": [
      "                            OLS Regression Results                            \n",
      "==============================================================================\n",
      "Dep. Variable:              potassium   R-squared:                       0.061\n",
      "Model:                            OLS   Adj. R-squared:                  0.033\n",
      "Method:                 Least Squares   F-statistic:                     2.209\n",
      "Date:                Sun, 28 Apr 2024   Prob (F-statistic):             0.0712\n",
      "Time:                        21:15:41   Log-Likelihood:                -197.05\n",
      "No. Observations:                 142   AIC:                             404.1\n",
      "Df Residuals:                     137   BIC:                             418.9\n",
      "Df Model:                           4                                         \n",
      "Covariance Type:            nonrobust                                         \n",
      "==============================================================================\n",
      "                 coef    std err          t      P>|t|      [0.025      0.975]\n",
      "------------------------------------------------------------------------------\n",
      "const      -6.158e-17      0.083  -7.44e-16      1.000      -0.164       0.164\n",
      "GDP            1.1346      0.737      1.540      0.126      -0.323       2.592\n",
      "GDP2          -2.5582      2.166     -1.181      0.240      -6.841       1.725\n",
      "GDP3           1.3564      1.514      0.896      0.372      -1.637       4.349\n",
      "Gini          -0.1526      0.085     -1.793      0.075      -0.321       0.016\n",
      "==============================================================================\n",
      "Omnibus:                       90.201   Durbin-Watson:                   1.180\n",
      "Prob(Omnibus):                  0.000   Jarque-Bera (JB):              524.811\n",
      "Skew:                           2.288   Prob(JB):                    1.09e-114\n",
      "Kurtosis:                      11.231   Cond. No.                         56.8\n",
      "==============================================================================\n",
      "\n",
      "Notes:\n",
      "[1] Standard Errors assume that the covariance matrix of the errors is correctly specified.\n"
     ]
    }
   ],
   "source": [
    "runner(data_2015_2018)"
   ]
  }
 ],
 "metadata": {
  "kernelspec": {
   "display_name": "Python 3",
   "language": "python",
   "name": "python3"
  },
  "language_info": {
   "codemirror_mode": {
    "name": "ipython",
    "version": 3
   },
   "file_extension": ".py",
   "mimetype": "text/x-python",
   "name": "python",
   "nbconvert_exporter": "python",
   "pygments_lexer": "ipython3",
   "version": "3.10.11"
  }
 },
 "nbformat": 4,
 "nbformat_minor": 2
}
